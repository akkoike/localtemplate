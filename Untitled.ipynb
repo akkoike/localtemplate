{
 "cells": [
  {
   "cell_type": "code",
   "execution_count": 1,
   "id": "3c0f9bb7",
   "metadata": {},
   "outputs": [
    {
     "name": "stdout",
     "output_type": "stream",
     "text": [
      "HELLO\n"
     ]
    }
   ],
   "source": [
    "print('HELLO')"
   ]
  },
  {
   "cell_type": "code",
   "execution_count": null,
   "id": "9805f90e",
   "metadata": {},
   "outputs": [],
   "source": [
    "mylist = [\"hoge\", \"fuga\", \"pego\"]\n",
    "for I in mylist:\n",
    "    print "
   ]
  }
 ],
 "metadata": {
  "kernelspec": {
   "display_name": "Python 3",
   "language": "python",
   "name": "python3"
  },
  "language_info": {
   "codemirror_mode": {
    "name": "ipython",
    "version": 3
   },
   "file_extension": ".py",
   "mimetype": "text/x-python",
   "name": "python",
   "nbconvert_exporter": "python",
   "pygments_lexer": "ipython3",
   "version": "3.9.5"
  }
 },
 "nbformat": 4,
 "nbformat_minor": 5
}
