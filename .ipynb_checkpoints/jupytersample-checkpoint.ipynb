{
 "cells": [
  {
   "cell_type": "code",
   "execution_count": 1,
   "id": "e12578f2",
   "metadata": {},
   "outputs": [
    {
     "name": "stdout",
     "output_type": "stream",
     "text": [
      "HELLO\n"
     ]
    }
   ],
   "source": [
    "print('HELLO')"
   ]
  },
  {
   "cell_type": "code",
   "execution_count": 3,
   "id": "78b16517",
   "metadata": {},
   "outputs": [
    {
     "name": "stdout",
     "output_type": "stream",
     "text": [
      "hoge\n",
      "fuga\n",
      "pego\n"
     ]
    }
   ],
   "source": [
    "mylist = [\"hoge\", \"fuga\", \"pego\"]\n",
    "for I in mylist:\n",
    "    print (I)"
   ]
  },
  {
   "cell_type": "code",
   "execution_count": null,
   "id": "55f7cb9f",
   "metadata": {},
   "outputs": [],
   "source": []
  }
 ],
 "metadata": {
  "kernelspec": {
   "display_name": "Python 3",
   "language": "python",
   "name": "python3"
  },
  "language_info": {
   "codemirror_mode": {
    "name": "ipython",
    "version": 3
   },
   "file_extension": ".py",
   "mimetype": "text/x-python",
   "name": "python",
   "nbconvert_exporter": "python",
   "pygments_lexer": "ipython3",
   "version": "3.9.5"
  }
 },
 "nbformat": 4,
 "nbformat_minor": 5
}
